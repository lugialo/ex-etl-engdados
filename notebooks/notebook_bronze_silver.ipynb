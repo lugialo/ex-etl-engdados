{
 "cells": [
  {
   "cell_type": "code",
   "execution_count": 0,
   "metadata": {
    "application/vnd.databricks.v1+cell": {
     "cellMetadata": {
      "byteLimit": 2048000,
      "rowLimit": 10000
     },
     "inputWidgets": {},
     "nuid": "f460b6e3-6829-401c-b378-6b57f857b0f1",
     "showTitle": false,
     "tableResultSettingsMap": {},
     "title": ""
    }
   },
   "outputs": [
    {
     "output_type": "stream",
     "name": "stdout",
     "output_type": "stream",
     "text": [
      "Processando Pacientes...\nProcessando Consultas...\nProcessando tabelas simples...\nProcesso de transformação para a camada Silver concluído.\n"
     ]
    }
   ],
   "source": [
    "# Importando bibliotecas necessárias\n",
    "from pyspark.sql.functions import col, to_date, trim\n",
    "\n",
    "# --- Configuração dos Caminhos ---\n",
    "\n",
    "storage_account_name = \"stacdatatrabalhoed01\"\n",
    "\n",
    "bronze_path = f\"abfss://bronze@{storage_account_name}.dfs.core.windows.net\"\n",
    "silver_path = f\"abfss://silver@{storage_account_name}.dfs.core.windows.net\""
   ]
  },
  {
   "cell_type": "code",
   "execution_count": 0,
   "metadata": {
    "application/vnd.databricks.v1+cell": {
     "cellMetadata": {},
     "inputWidgets": {},
     "nuid": "843faf01-e566-493d-ab44-a576d26ad29c",
     "showTitle": false,
     "tableResultSettingsMap": {},
     "title": ""
    }
   },
   "outputs": [],
   "source": [
    "# --- Lendo as tabelas da camada Bronze ---\n",
    "df_paciente_bronze = spark.read.format(\"delta\").load(f\"{bronze_path}/paciente\")\n",
    "df_endereco_bronze = spark.read.format(\"delta\").load(f\"{bronze_path}/endereco\")\n",
    "df_agendamento_bronze = spark.read.format(\"delta\").load(f\"{bronze_path}/agendamento\")\n",
    "df_consulta_bronze = spark.read.format(\"delta\").load(f\"{bronze_path}/consulta\")\n",
    "df_pagamento_bronze = spark.read.format(\"delta\").load(f\"{bronze_path}/pagamento\")\n",
    "df_tipo_pagamento_bronze = spark.read.format(\"delta\").load(f\"{bronze_path}/tipo_pagamento\")\n",
    "df_log_pagamento_bronze = spark.read.format(\"delta\").load(f\"{bronze_path}/log_pagamento\")\n",
    "df_procedimento_bronze = spark.read.format(\"delta\").load(f\"{bronze_path}/procedimento\")\n",
    "df_odontologista_bronze = spark.read.format(\"delta\").load(f\"{bronze_path}/odontologista\")\n",
    "df_consulta_procedimento_bronze = spark.read.format(\"delta\").load(f\"{bronze_path}/consulta_procedimento\")"
   ]
  },
  {
   "cell_type": "code",
   "execution_count": 0,
   "metadata": {
    "application/vnd.databricks.v1+cell": {
     "cellMetadata": {},
     "inputWidgets": {},
     "nuid": "a805582c-7c3d-4fcb-a987-eca8f7ebb127",
     "showTitle": false,
     "tableResultSettingsMap": {},
     "title": ""
    }
   },
   "outputs": [],
   "source": [
    "# --- Transformação 1: Paciente + Endereço ---\n",
    "print(\"Processando Pacientes...\")\n",
    "df_paciente_silver = df_paciente_bronze.join(\n",
    "    df_endereco_bronze,\n",
    "    df_paciente_bronze[\"endereco_id_endereco\"] == df_endereco_bronze[\"id_endereco\"],\n",
    "    \"left\"  # Usamos left join para não perder pacientes sem endereço cadastrado\n",
    ").select(\n",
    "    df_paciente_bronze[\"id_paciente\"],\n",
    "    df_paciente_bronze[\"nome_paciente\"],\n",
    "    df_paciente_bronze[\"cpf_paciente\"],\n",
    "    df_paciente_bronze[\"telefone\"],\n",
    "    df_paciente_bronze[\"genero\"],\n",
    "    to_date(col(\"data_nasc\"), \"yyyy-MM-dd\").alias(\"data_nasc\"),\n",
    "    df_paciente_bronze[\"email\"],\n",
    "    df_endereco_bronze[\"logradouro\"],\n",
    "    df_endereco_bronze[\"numero\"],\n",
    "    df_endereco_bronze[\"complemento\"],\n",
    "    df_endereco_bronze[\"bairro\"],\n",
    "    df_endereco_bronze[\"cidade\"],\n",
    "    df_endereco_bronze[\"estado\"],\n",
    "    df_endereco_bronze[\"cep\"],\n",
    "    df_endereco_bronze[\"pais\"]\n",
    ")\n",
    "\n",
    "# Salvar a tabela de paciente enriquecida na Silver\n",
    "df_paciente_silver.write.format(\"delta\").mode(\"overwrite\").save(f\"{silver_path}/paciente_enriquecido\")\n",
    "spark.sql(f\"CREATE TABLE IF NOT EXISTS silver_paciente USING DELTA LOCATION '{silver_path}/paciente_enriquecido'\")"
   ]
  },
  {
   "cell_type": "code",
   "execution_count": 0,
   "metadata": {
    "application/vnd.databricks.v1+cell": {
     "cellMetadata": {},
     "inputWidgets": {},
     "nuid": "cccc3202-f95e-4709-8dc2-c1bfe5fc8bb6",
     "showTitle": false,
     "tableResultSettingsMap": {},
     "title": ""
    }
   },
   "outputs": [],
   "source": [
    "# --- Transformação 2: Visão Consolidada da Consulta ---\n",
    "# Unir consulta, agendamento e pagamento para ter uma visão mais completa\n",
    "print(\"Processando Consultas...\")\n",
    "df_consulta_silver = df_consulta_bronze.join(\n",
    "    df_agendamento_bronze,\n",
    "    df_consulta_bronze[\"agendamento_id_agendamento\"] == df_agendamento_bronze[\"id_agendamento\"],\n",
    "    \"inner\" # Inner join pois uma consulta deve ter um agendamento\n",
    ").join(\n",
    "    df_pagamento_bronze,\n",
    "    df_consulta_bronze[\"id_consulta\"] == df_pagamento_bronze[\"consulta_id_consulta\"],\n",
    "    \"left\" # Left join pois uma consulta pode não ter um pagamento ainda\n",
    ").select(\n",
    "    df_consulta_bronze[\"id_consulta\"],\n",
    "    df_consulta_bronze[\"data_hora\"],\n",
    "    df_consulta_bronze[\"diagnostico\"],\n",
    "    df_consulta_bronze[\"tratamento\"],\n",
    "    df_agendamento_bronze[\"id_agendamento\"],\n",
    "    df_agendamento_bronze[\"paciente_id_paciente\"],\n",
    "    df_agendamento_bronze[\"odontologista_id_odontologista\"],\n",
    "    df_agendamento_bronze[\"status_agendamento\"],\n",
    "    df_pagamento_bronze[\"id_pagamento\"],\n",
    "    df_pagamento_bronze[\"valor_pago\"],\n",
    "    df_pagamento_bronze[\"data_pagamento\"],\n",
    "    df_pagamento_bronze[\"tipo_pagamento_id_tipo_pagamento\"]\n",
    ")\n",
    "\n",
    "df_consulta_silver.write.format(\"delta\").mode(\"overwrite\").save(f\"{silver_path}/consulta_consolidada\")\n",
    "spark.sql(f\"CREATE TABLE IF NOT EXISTS silver_consulta USING DELTA LOCATION '{silver_path}/consulta_consolidada'\")\n",
    "\n",
    "\n",
    "# As outras tabelas que não precisam de joins complexos (odontologista, procedimento, etc.)\n",
    "# podem ser simplesmente limpas (ex: trim, cast) e salvas na Silver.\n",
    "print(\"Processando tabelas simples...\")\n",
    "tabelas_simples = [\"odontologista\", \"procedimento\", \"tipo_pagamento\", \"consulta_procedimento\",]\n",
    "for table_name in tabelas_simples:\n",
    "    df_bronze = spark.read.format(\"delta\").load(f\"{bronze_path}/{table_name}\")\n",
    "    df_bronze.write.format(\"delta\").mode(\"overwrite\").save(f\"{silver_path}/{table_name}\")\n",
    "    spark.sql(f\"CREATE TABLE IF NOT EXISTS silver_{table_name} USING DELTA LOCATION '{silver_path}/{table_name}'\")\n",
    "\n",
    "print(\"Processo de transformação para a camada Silver concluído.\")"
   ]
  }
 ],
 "metadata": {
  "application/vnd.databricks.v1+notebook": {
   "computePreferences": null,
   "dashboards": [],
   "environmentMetadata": {
    "base_environment": "",
    "environment_version": "2"
   },
   "inputWidgetPreferences": null,
   "language": "python",
   "notebookMetadata": {
    "pythonIndentUnit": 4
   },
   "notebookName": "notebook_bronze_silver",
   "widgets": {}
  },
  "language_info": {
   "name": "python"
  }
 },
 "nbformat": 4,
 "nbformat_minor": 0
}