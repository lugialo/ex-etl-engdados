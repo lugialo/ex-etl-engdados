{
 "cells": [
  {
   "cell_type": "code",
   "execution_count": 0,
   "metadata": {
    "application/vnd.databricks.v1+cell": {
     "cellMetadata": {
      "byteLimit": 2048000,
      "rowLimit": 10000
     },
     "inputWidgets": {},
     "nuid": "8f82d0d2-c6cf-4511-ae67-4aa593763405",
     "showTitle": false,
     "tableResultSettingsMap": {},
     "title": ""
    }
   },
   "outputs": [],
   "source": [
    "from pyspark.sql.functions import current_timestamp, lit\n",
    "\n",
    "# --- Configuração dos Caminhos ---\n",
    "\n",
    "# 1. Definição da conta de armazenamento\n",
    "storage_account_name = \"stacdatatrabalhoed01\"\n",
    "\n",
    "# Caminho para os dados brutos para upload\n",
    "landing_zone_path = f\"abfss://landingzone@{storage_account_name}.dfs.core.windows.net\"\n",
    "\n",
    "bronze_path = f\"abfss://bronze@{storage_account_name}.dfs.core.windows.net\""
   ]
  },
  {
   "cell_type": "code",
   "execution_count": 0,
   "metadata": {
    "application/vnd.databricks.v1+cell": {
     "cellMetadata": {},
     "inputWidgets": {},
     "nuid": "b12ceb5a-69af-4e29-a38c-6e72be63f2de",
     "showTitle": false,
     "tableResultSettingsMap": {},
     "title": ""
    }
   },
   "outputs": [
    {
     "name": "stdout",
     "output_type": "stream",
     "text": [
      "Processando tabela: agendamento\n",
      "Processando tabela: consulta\n",
      "Processando tabela: consulta_procedimento\n",
      "Processando tabela: endereco\n",
      "Processando tabela: log_pagamento\n",
      "Processando tabela: odontologista\n",
      "Processando tabela: paciente\n",
      "Processando tabela: pagamento\n",
      "Processando tabela: procedimento\n",
      "Processando tabela: tipo_pagamento\n",
      "Processo de ingestão para a camada Bronze concluído.\n"
     ]
    }
   ],
   "source": [
    "# Lista de todas as tabelas\n",
    "tables = [\n",
    "    \"agendamento\", \"consulta\", \"consulta_procedimento\", \"endereco\",\n",
    "    \"log_pagamento\", \"odontologista\", \"paciente\", \"pagamento\",\n",
    "    \"procedimento\", \"tipo_pagamento\"\n",
    "]\n",
    "\n",
    "# --- Loop de Ingestão ---\n",
    "for table_name in tables:\n",
    "    print(f\"Processando tabela: {table_name}\")\n",
    "\n",
    "    # 1. Ler o arquivo CSV da Landing Zone\n",
    "    df_raw = spark.read.format(\"csv\") \\\n",
    "        .option(\"header\", \"true\") \\\n",
    "        .option(\"inferSchema\", \"true\") \\\n",
    "        .load(f\"{landing_zone_path}/{table_name}.csv\")\n",
    "\n",
    "    # 2. Adicionar metadados de ingestão (boa prática)\n",
    "    df_with_metadata = df_raw.withColumn(\"data_ingestao_bronze\", current_timestamp()) \\\n",
    "                               .withColumn(\"fonte_dados\", lit(f\"{table_name}.csv\"))\n",
    "\n",
    "    # 3. Escrever como tabela Delta na camada Bronze\n",
    "    # O modo \"overwrite\" substitui os dados a cada execução.\n",
    "    df_with_metadata.write.format(\"delta\") \\\n",
    "        .mode(\"overwrite\") \\\n",
    "        .save(f\"{bronze_path}/{table_name}\")\n",
    "\n",
    "    # (Opcional) Criação de uma tabela no metastore do Databricks para facilitar consultas SQL\n",
    "    spark.sql(f\"CREATE TABLE IF NOT EXISTS bronze_{table_name} USING DELTA LOCATION '{bronze_path}/{table_name}'\")\n",
    "\n",
    "print(\"Processo de ingestão para a camada Bronze concluído.\")"
   ]
  }
 ],
 "metadata": {
  "application/vnd.databricks.v1+notebook": {
   "computePreferences": null,
   "dashboards": [],
   "environmentMetadata": {
    "base_environment": "",
    "environment_version": "2"
   },
   "inputWidgetPreferences": null,
   "language": "python",
   "notebookMetadata": {
    "pythonIndentUnit": 4
   },
   "notebookName": "notebook_landing_bronze",
   "widgets": {}
  },
  "language_info": {
   "name": "python"
  }
 },
 "nbformat": 4,
 "nbformat_minor": 0
}
