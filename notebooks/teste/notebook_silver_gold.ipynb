{
 "cells": [
  {
   "cell_type": "code",
   "execution_count": 0,
   "metadata": {
    "application/vnd.databricks.v1+cell": {
     "cellMetadata": {
      "byteLimit": 2048000,
      "rowLimit": 10000
     },
     "inputWidgets": {},
     "nuid": "c6105321-bc97-4171-aa65-38a1a15c0ff9",
     "showTitle": false,
     "tableResultSettingsMap": {},
     "title": ""
    }
   },
   "outputs": [
    {
     "name": "stdout",
     "output_type": "stream",
     "text": [
      "Criando Dimensões...\n",
      "Dimensões criadas.\n",
      "Criando Tabela Fato...\n",
      "Processo de transformação para a camada Gold concluído.\n"
     ]
    }
   ],
   "source": [
    "# Importando bibliotecas necessárias\n",
    "from pyspark.sql.functions import col, year, month, dayofmonth, date_format, lit\n",
    "\n",
    "# --- Configuração dos Caminhos ---\n",
    "\n",
    "storage_account_name = \"stacdatatrabalhoed01\"\n",
    "\n",
    "\n",
    "silver_path = f\"abfss://silver@{storage_account_name}.dfs.core.windows.net\"\n",
    "gold_path = f\"abfss://gold@{storage_account_name}.dfs.core.windows.net\""
   ]
  },
  {
   "cell_type": "code",
   "execution_count": 0,
   "metadata": {
    "application/vnd.databricks.v1+cell": {
     "cellMetadata": {},
     "inputWidgets": {},
     "nuid": "1815dbbd-59dc-495d-9986-a6fb01d453dd",
     "showTitle": false,
     "tableResultSettingsMap": {},
     "title": ""
    }
   },
   "outputs": [],
   "source": [
    "# Carregar tabelas da Silver ---\n",
    "df_paciente = spark.read.format(\"delta\").load(f\"{silver_path}/teste/paciente_enriquecido\")\n",
    "df_odontologista = spark.read.format(\"delta\").load(f\"{silver_path}/teste/odontologista\")\n",
    "df_procedimento = spark.read.format(\"delta\").load(f\"{silver_path}/teste/procedimento\")\n",
    "df_tipo_pagamento = spark.read.format(\"delta\").load(f\"{silver_path}/teste/tipo_pagamento\")\n",
    "df_consulta = spark.read.format(\"delta\").load(f\"{silver_path}/teste/consulta_consolidada\")\n",
    "df_consulta_procedimento = spark.read.format(\"delta\").load(f\"{silver_path}/teste/consulta_procedimento\")"
   ]
  },
  {
   "cell_type": "code",
   "execution_count": 0,
   "metadata": {
    "application/vnd.databricks.v1+cell": {
     "cellMetadata": {},
     "inputWidgets": {},
     "nuid": "a6a5913b-472d-4fc4-b1b0-c8ada372b8b2",
     "showTitle": false,
     "tableResultSettingsMap": {},
     "title": ""
    }
   },
   "outputs": [],
   "source": [
    "# --- Criação das Dimensões ---\n",
    "\n",
    "print(\"Criando Dimensões...\")\n",
    "\n",
    "# 1. dim_paciente\n",
    "dim_paciente = df_paciente.select(\n",
    "    \"id_paciente\", \"nome_paciente\", \"cpf_paciente\", \"genero\",\n",
    "    \"data_nasc\", \"cidade\", \"estado\", \"pais\"\n",
    ")\n",
    "dim_paciente.write.format(\"delta\").mode(\"overwrite\").save(f\"{gold_path}/teste/dim_paciente\")\n",
    "spark.sql(f\"CREATE TABLE IF NOT EXISTS gold_dim_paciente USING DELTA LOCATION '{gold_path}/teste/dim_paciente'\")\n",
    "\n",
    "# 2. dim_odontologista\n",
    "dim_odontologista = df_odontologista.select(\n",
    "    \"id_odontologista\", \"nome_odontologista\", \"especialidade\", \"cro\"\n",
    ")\n",
    "dim_odontologista.write.format(\"delta\").mode(\"overwrite\").save(f\"{gold_path}/teste/dim_odontologista\")\n",
    "spark.sql(f\"CREATE TABLE IF NOT EXISTS gold_dim_odontologista USING DELTA LOCATION '{gold_path}/teste/dim_odontologista'\")\n",
    "\n",
    "\n",
    "# 3. dim_procedimento\n",
    "dim_procedimento = df_procedimento.select(\n",
    "    \"id_procedimento\", \"nome_procedimento\", \"descricao_procedimento\"\n",
    ")\n",
    "dim_procedimento.write.format(\"delta\").mode(\"overwrite\").save(f\"{gold_path}/teste/dim_procedimento\")\n",
    "spark.sql(f\"CREATE TABLE IF NOT EXISTS gold_dim_procedimento USING DELTA LOCATION '{gold_path}/teste/dim_procedimento'\")\n",
    "\n",
    "\n",
    "# 4. dim_tipo_pagamento\n",
    "dim_tipo_pagamento = df_tipo_pagamento.select(\n",
    "    \"id_tipo_pagamento\", \"descricao_tipo_pagamento\"\n",
    ")\n",
    "dim_tipo_pagamento.write.format(\"delta\").mode(\"overwrite\").save(f\"{gold_path}/teste/dim_tipo_pagamento\")\n",
    "spark.sql(f\"CREATE TABLE IF NOT EXISTS gold_dim_tipo_pagamento USING DELTA LOCATION '{gold_path}/teste/dim_tipo_pagamento'\")\n",
    "\n",
    "# 5. dim_consulta\n",
    "dim_consulta = df_consulta.select(\"id_consulta\", \"data_hora\", \"diagnostico\", \"tratamento\", \"id_agendamento\")\n",
    "dim_consulta.write.format(\"delta\").mode(\"overwrite\").save(f\"{gold_path}/teste/dim_consulta\")\n",
    "spark.sql(f\"CREATE TABLE IF NOT EXISTS gold_dim_consulta USING DELTA LOCATION '{gold_path}/teste/dim_consulta'\")\n",
    "\n",
    "\n",
    "# 6. dim_tempo (Gerada a partir dos dados)\n",
    "# Usamos a data do pagamento como base para a dimensão tempo.\n",
    "df_datas = df_consulta.select(col(\"data_pagamento\").alias(\"data\")).filter(col(\"data\").isNotNull()).distinct()\n",
    "\n",
    "dim_tempo = df_datas.select(\n",
    "    col(\"data\").cast(\"date\").alias(\"id_tempo_data\"), # Usar a própria data como chave\n",
    "    col(\"data\"),\n",
    "    year(\"data\").alias(\"ano\"),\n",
    "    month(\"data\").alias(\"mes\"),\n",
    "    dayofmonth(\"data\").alias(\"dia\"),\n",
    "    date_format(col(\"data\"), \"E\").alias(\"dia_semana\") # 'E' para nome do dia da semana\n",
    ")\n",
    "# Para usar um ID inteiro (id_tempo), você pode gerar com a função monotonically_increasing_id() ou zipWithIndex()\n",
    "from pyspark.sql.functions import monotonically_increasing_id\n",
    "dim_tempo = dim_tempo.withColumn(\"id_tempo\", monotonically_increasing_id())\n",
    "\n",
    "dim_tempo.write.format(\"delta\").mode(\"overwrite\").save(f\"{gold_path}/teste/dim_tempo\")\n",
    "spark.sql(f\"CREATE TABLE IF NOT EXISTS gold_dim_tempo USING DELTA LOCATION '{gold_path}/teste/dim_tempo'\")\n",
    "\n",
    "print(\"Dimensões criadas.\")"
   ]
  },
  {
   "cell_type": "code",
   "execution_count": 0,
   "metadata": {
    "application/vnd.databricks.v1+cell": {
     "cellMetadata": {},
     "inputWidgets": {},
     "nuid": "f84de66c-6f3c-4d1f-a5cc-afba6ca4f989",
     "showTitle": false,
     "tableResultSettingsMap": {},
     "title": ""
    }
   },
   "outputs": [],
   "source": [
    "# --- Criação da Tabela Fato ---\n",
    "\n",
    "print(\"Criando Tabela Fato...\")\n",
    "\n",
    "df_base_fato = df_consulta_procedimento.alias(\"cp\") \\\n",
    "    .join(df_consulta.alias(\"c\"), col(\"cp.consulta_id_consulta\") == col(\"c.id_consulta\")) \\\n",
    "    .join(dim_tempo.alias(\"t\"), col(\"c.data_pagamento\").cast(\"date\") == col(\"t.id_tempo_data\")) \\\n",
    "    .select(\n",
    "        col(\"c.id_consulta\"),\n",
    "        col(\"c.paciente_id_paciente\").alias(\"id_paciente\"),\n",
    "        col(\"c.odontologista_id_odontologista\").alias(\"id_odontologista\"),\n",
    "        col(\"cp.procedimento_id_procedimento\").alias(\"id_procedimento\"),\n",
    "        col(\"c.tipo_pagamento_id_tipo_pagamento\").alias(\"id_tipo_pagamento\"),\n",
    "        col(\"t.id_tempo\"),\n",
    "        col(\"c.valor_pago\")\n",
    "    ).withColumn(\"quantidade_procedimentos\", lit(1)) # Cada linha representa um procedimento\n",
    "\n",
    "# Renomeia colunas para corresponder exatamente ao schema da Fato Gold\n",
    "fato_consulta_pagamento = df_base_fato.select(\n",
    "    \"id_consulta\",\n",
    "    \"id_paciente\",\n",
    "    \"id_odontologista\",\n",
    "    \"id_procedimento\",\n",
    "    \"id_tipo_pagamento\",\n",
    "    \"id_tempo\",\n",
    "    \"valor_pago\",\n",
    "    \"quantidade_procedimentos\"\n",
    ").filter(col(\"valor_pago\").isNotNull())"
   ]
  },
  {
   "cell_type": "code",
   "execution_count": 0,
   "metadata": {
    "application/vnd.databricks.v1+cell": {
     "cellMetadata": {},
     "inputWidgets": {},
     "nuid": "0f22d303-a43f-4d11-b3ff-32cf68783c53",
     "showTitle": false,
     "tableResultSettingsMap": {},
     "title": ""
    }
   },
   "outputs": [],
   "source": [
    "# Adiciona a surrogate key `id_fato`\n",
    "fato_consulta_pagamento = fato_consulta_pagamento.withColumn(\"id_fato\", monotonically_increasing_id())\n",
    "\n",
    "\n",
    "fato_consulta_pagamento.write.format(\"delta\").mode(\"overwrite\").save(f\"{gold_path}/teste/fato_consulta_pagamento\")\n",
    "spark.sql(f\"CREATE TABLE IF NOT EXISTS gold_fato_consulta_pagamento USING DELTA LOCATION '{gold_path}/teste/fato_consulta_pagamento'\")\n",
    "\n",
    "print(\"Processo de transformação para a camada Gold concluído.\")"
   ]
  }
 ],
 "metadata": {
  "application/vnd.databricks.v1+notebook": {
   "computePreferences": null,
   "dashboards": [],
   "environmentMetadata": {
    "base_environment": "",
    "environment_version": "2"
   },
   "inputWidgetPreferences": null,
   "language": "python",
   "notebookMetadata": {
    "pythonIndentUnit": 4
   },
   "notebookName": "notebook_silver_gold",
   "widgets": {}
  },
  "language_info": {
   "name": "python"
  }
 },
 "nbformat": 4,
 "nbformat_minor": 0
}
